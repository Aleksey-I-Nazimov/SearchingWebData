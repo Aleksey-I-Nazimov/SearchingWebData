{
 "cells": [
  {
   "cell_type": "code",
   "execution_count": 1,
   "id": "b7766907",
   "metadata": {},
   "outputs": [
    {
     "name": "stdout",
     "output_type": "stream",
     "text": [
      "<!doctype html><html itemscope=\"\" itemtype=\"http://schema.org/WebPage\" lang=\"ru\"><head><meta content=\"Поиск информации в интернете: веб страницы, картинки, видео и многое другое.\" name=\"description\"><meta content=\"noodp\" name=\"robots\"><meta content=\"text/html; charset=UTF-8\" http-equiv=\"Content-Type\"><meta content=\"/images/branding/googleg/1x/googleg_standard_color_128dp.png\" itemprop=\"image\"><title>Google</title><script nonce=\"J8DI2i4ka6bPOzLljm-CTA\">(function(){window.google={kEI:'ujNIZNqIO7KRseMPv4iUoAo',kEXPI:'0,1303457,55952,6059,206,4804,2316,383,246,5,1129120,1197756,380735,16114,28684,22431,1361,283,12028,17588,4998,13228,3847,38444,2872,2891,8349,3405,606,58286,2403,15757,3,576,20583,4,1528,2304,42127,13658,4437,16786,5824,2533,4094,7596,1,14261,27896,2,14019,25739,5679,1020,31123,4567,6256,17113,6308,1252,5835,14967,4333,7484,445,2,2,1,6959,19673,8155,7381,15970,872,7829,11805,7,1922,9779,20639,15515,6305,20199,20136,14,82,9801,10405,8377,409,5502,13049,5403,3030,5630,480,9706,1804,10472,1853,423,609,449,2006,41,4664,5890,6275,415,2172,1541,2067,3048,2130,43,2971,13,1635,5798,2,980,1168,1759,4151,1128,5901,1441,2369,35,1967,2189,1167,2786,345,83,394,159,1068,169,601,1904,600,321,3,233,132,705,2,1056,889,124,855,208,2,729,811,8,171,506,265,91,107,514,120,5,1143,204,3,3,9,540,67,468,819,2,1477,31,6,7,119,114,133,325,5,962,44,214,381,578,512,467,154,117,255,45,208,179,773,2,14,534,124,196,1623,223,5200455,13,6195,2,70,561,5995039,2803243,3311,141,801,19729,1,1,346,5015,23,24,31,2,29,2,3,3,2,7,16,9,41,101,1,83,20725072,3220020,4042143,1964,5417,11256,2893,6250,14715,1025,1713,12,1413331,146986,23612607,14,339,7,84,93,34,100,336,176,42,850,606,86,1,347,158,2,548,2,329,16,422,99,523,1948,1031,1657,293,848,709',kBL:'5iQ6',kOPI:89978449};google.sn='webhp';google.kHL='ru';})();(function(){"
     ]
    },
    {
     "name": "stderr",
     "output_type": "stream",
     "text": [
      "  % Total    % Received % Xferd  Average Speed   Time    Time     Time  Current\n",
      "                                 Dload  Upload   Total   Spent    Left  Speed\n",
      "\n",
      "  0     0    0     0    0     0      0      0 --:--:-- --:--:-- --:--:--     0*   Trying 142.251.1.94:80...\n",
      "* Connected to www.google.ru (142.251.1.94) port 80 (#0)\n",
      "> GET / HTTP/1.1\n",
      "\n",
      "> Host: www.google.ru\n",
      "\n",
      "> User-Agent: curl/7.82.0\n",
      "\n",
      "> Accept: */*\n",
      "\n",
      "> \n",
      "\n",
      "* Mark bundle as not supporting multiuse\n",
      "< HTTP/1.1 200 OK\n",
      "\n",
      "< Date: Tue, 25 Apr 2023 20:10:34 GMT\n",
      "\n",
      "< Expires: -1\n",
      "\n",
      "< Cache-Control: private, max-age=0\n",
      "\n",
      "< Content-Type: text/html; charset=windows-1251\n",
      "\n",
      "< Content-Security-Policy-Report-Only: object-src 'none';base-uri 'self';script-src 'nonce-J8DI2i4ka6bPOzLljm-CTA' 'strict-dynamic' 'report-sample' 'unsafe-eval' 'unsafe-inline' https: http:;report-uri https://csp.withgoogle.com/csp/gws/other-hp\n",
      "\n",
      "< P3P: CP=\"This is not a P3P policy! See g.co/p3phelp for more info.\"\n",
      "\n",
      "< Server: gws\n",
      "\n",
      "< X-XSS-Protection: 0\n",
      "\n"
     ]
    },
    {
     "name": "stdout",
     "output_type": "stream",
     "text": [
      "\n",
      "var h=this||self;function l(){return void 0!==window.google&&void 0!==window.google.kOPI&&0!==window.google.kOPI?window.google.kOPI:null};var m,n=[];function p(a){for(var b;a&&(!a.getAttribute||!(b=a.getAttribute(\"eid\")));)a=a.parentNode;return b||m}function q(a){for(var b=null;a&&(!a.getAttribute||!(b=a.getAttribute(\"leid\")));)a=a.parentNode;return b}function r(a){/^http:/i.test(a)&&\"https:\"===window.location.protocol&&(google.ml&&google.ml(Error(\"a\"),!1,{src:a,glmm:1}),a=\"\");return a}\n",
      "function t(a,b,c,d,k){var e=\"\";-1===b.search(\"&ei=\")&&(e=\"&ei=\"+p(d),-1===b.search(\"&lei=\")&&(d=q(d))&&(e+=\"&lei=\"+d));d=\"\";var g=-1===b.search(\"&cshid=\")&&\"slh\"!==a,f=[];f.push([\"zx\",Date.now().toString()]);h._cshid&&g&&f.push([\"cshid\",h._cshid]);c=c();null!=c&&f.push([\"opi\",c.toString()]);for(c=0;c<f.length;c++){if(0===c||0<c)d+=\"&\";d+=f[c][0]+\"=\"+f[c][1]}return\"/\"+(k||\"gen_204\")+\"?atyp=i&ct=\"+String(a)+\"&cad=\"+(b+e+d)};m=google.kEI;google.getEI=p;google.getLEI=q;google.ml=function(){return null};google.log=function(a,b,c,d,k,e){e=void 0===e?l:e;c||(c=t(a,b,e,d,k));if(c=r(c)){a=new Image;var g=n.length;n[g]=a;a.onerror=a.onload=a.onabort=function(){delete n[g]};a.src=c}};google.logUrl=function(a,b){b=void 0===b?l:b;return t(\"\",a,b)};}).call(this);(function(){google.y={};google.sy=[];google.x=function(a,b){if(a)var c=a.id;else{do c=Math.random();while(google.y[c])}google.y[c]=[a,b];return!1};google.sx=function(a){google.sy.push(a)};google.lm=[];google.plm=function(a){google.lm.push.apply(google.lm,a)};google.lq=[];google.load=function(a,b,c){google.lq.push([[a],b,c])};google.loadAll=function(a,b){google.lq.push([a,b])};google.bx=!1;google.lx=function(){};}).call(this);google.f={};(function(){\n",
      "document.documentElement.addEventListener(\"submit\",function(b){var a;if(a=b.target){var c=a.getAttribute(\"data-submitfalse\");a=\"1\"===c||\"q\"===c&&!a.elements.q.value?!0:!1}else a=!1;a&&(b.preventDefault(),b.stopPropagation())},!0);document.documentElement.addEventListener(\"click\",function(b){var a;a:{for(a=b.target;a&&a!==document.documentElement;a=a.parentElement)if(\"A\"===a.tagName){a=\"1\"===a.getAttribute(\"data-nohref\");break a}a=!1}a&&b.preventDefault()},!0);}).call(this);</script><style>#gbar,#guser{font-size:13px;padding-top:1px !important;}#gbar{height:22px}#guser{padding-bottom:7px !important;text-align:right}.gbh,.gbd{border-top:1px solid #c9d7f1;font-size:1px}.gbh{height:0;position:absolute;top:24px;width:100%}@media all{.gb1{height:22px;margin-right:.5em;vertical-align:top}#gbar{float:left}}a.gb1,a.gb4{text-decoration:underline !important}a.gb1,a.gb4{color:#00c !important}.gbi .gb4{color:#dd8e27 !important}.gbf .gb4{color:#900 !important}\n",
      "</style><style>body,td,a,p,.h{font-family:arial,sans-serif}body{margin:0;overflow-y:scroll}#gog{padding:3px 8px 0}td{line-height:.8em}.gac_m td{line-height:17px}form{margin-bottom:20px}.h{color:#1558d6}em{font-weight:bold;font-style:normal}.lst{height:25px;width:496px}.gsfi,.lst{font:18px arial,sans-serif}.gsfs{font:17px arial,sans-serif}.ds{display:inline-box;display:inline-block;margin:3px 0 4px;margin-left:4px}input{font-family:inherit}body{background:#fff;color:#000}a{color:#4b11a8;text-decoration:none}a:hover,a:active{text-decoration:underline}.fl a{color:#1558d6}a:visited{color:#4b11a8}.sblc{padding-top:5px}.sblc a{display:block;margin:2px 0;margin-left:13px;font-size:11px}.lsbb{background:#f8f9fa;border:solid 1px;border-color:#dadce0 #70757a #70757a #dadce0;height:30px}.lsbb{display:block}#WqQANb a{display:inline-block;margin:0 12px}.lsb{background:url(/images/nav_logo229.png) 0 -261px repeat-x;border:none;color:#000;cursor:pointer;height:30px;margin:0;outline:0;font:15px arial,sans-serif;vertical-align:top}.lsb:active{background:#dadce0}.lst:focus{outline:none}.Ucigb{width:458px}</style><script nonce=\"J8DI2i4ka6bPOzLljm-CTA\">(function(){window.google.erd={jsr:1,bv:1782,de:true};\n",
      "var h=this||self;var k,l=null!=(k=h.mei)?k:1,n,p=null!=(n=h.sdo)?n:!0,q=0,r,t=google.erd,v=t.jsr;google.ml=function(a,b,d,m,e){e=void 0===e?2:e;b&&(r=a&&a.message);if(google.dl)return google.dl(a,e,d),null;if(0>v){window.console&&console.error(a,d);if(-2===v)throw a;b=!1}else b=!a||!a.message||\"Error loading script\"===a.message||q>=l&&!m?!1:!0;if(!b)return null;q++;d=d||{};b=encodeURIComponent;var c=\"/gen_204?atyp=i&ei=\"+b(google.kEI);google.kEXPI&&(c+=\"&jexpid=\"+b(google.kEXPI));c+=\"&srcpg=\"+b(google.sn)+\"&jsr=\"+b(t.jsr)+\"&bver=\"+b(t.bv);var f=a.lineNumber;void 0!==f&&(c+=\"&line=\"+f);var g=\n",
      "a.fileName;g&&(0<g.indexOf(\"-extension:/\")&&(e=3),c+=\"&script=\"+b(g),f&&g===window.location.href&&(f=document.documentElement.outerHTML.split(\"\\n\")[f],c+=\"&cad=\"+b(f?f.substring(0,300):\"No script found.\")));c+=\"&jsel=\"+e;for(var u in d)c+=\"&\",c+=b(u),c+=\"=\",c+=b(d[u]);c=c+\"&emsg=\"+b(a.name+\": \"+a.message);c=c+\"&jsst=\"+b(a.stack||\"N/A\");12288<=c.length&&(c=c.substr(0,12288));a=c;m||google.log(0,\"\",a);return a};window.onerror=function(a,b,d,m,e){r!==a&&(a=e instanceof Error?e:Error(a),void 0===d||\"lineNumber\"in a||(a.lineNumber=d),void 0===b||\"fileName\"in a||(a.fileName=b),google.ml(a,!1,void 0,!1,\"SyntaxError\"===a.name||\"SyntaxError\"===a.message.substring(0,11)||-1!==a.message.indexOf(\"Script error\")?3:0));r=null;p&&q>=l&&(window.onerror=null)};})();</script></head><body bgcolor=\"#fff\"><script nonce=\"J8DI2i4ka6bPOzLljm-CTA\">(function(){var src='/images/nav_logo229.png';var iesg=false;document.body.onload = function(){window.n && window.n();if (document.images){new Image().src=src;}\n",
      "if (!iesg){document.f&&document.f.q.focus();document.gbqf&&document.gbqf.q.focus();}\n",
      "}\n",
      "})();</script><div id=\"mngb\"><div id=gbar><nobr><b class=gb1>Поиск</b> <a class=gb1 href=\"http://www.google.ru/imghp?hl=ru&tab=wi\">Картинки</a> <a class=gb1 href=\"http://maps.google.ru/maps?hl=ru&tab=wl\">Карты</a> <a class=gb1 href=\"https://play.google.com/?hl=ru&tab=w8\">Play</a> <a class=gb1 href=\"https://www.youtube.com/?tab=w1\">YouTube</a> <a class=gb1 href=\"https://news.google.com/?tab=wn\">Новости</a> <a class=gb1 href=\"https://mail.google.com/mail/?tab=wm\">Почта</a> <a class=gb1 href=\"https://drive.google.com/?tab=wo\">Диск</a> <a class=gb1 style=\"text-decoration:none\" href=\"https://www.google.ru/intl/ru/about/products?tab=wh\"><u>Ещё</u> &raquo;</a></nobr></div><div id=guser width=100%><nobr><span id=gbn class=gbi></span><span id=gbf class=gbf></span><span id=gbe></span><a href=\"http://www.google.ru/history/optout?hl=ru\" class=gb4>История веб-поиска</a> | <a  href=\"/preferences?hl=ru\" class=gb4>Настройки</a> | <a target=_top id=gb_70 href=\"https://accounts.google.com/ServiceLogin?hl=ru&passive=true&continue=http://www.google.ru/&ec=GAZAAQ\" class=gb4>Войти</a></nobr></div><div class=gbh style=left:0></div><div class=gbh style=right:0></div></div><center><br clear=\"all\" id=\"lgpd\"><div id=\"lga\"><img alt=\"Google\" height=\"92\" src=\"/images/branding/googlelogo/1x/googlelogo_white_background_color_272x92dp.png\" style=\"padding:28px 0 14px\" width=\"272\" id=\"hplogo\"><br><br></div><form action=\"/search\" name=\"f\"><table cellpadding=\"0\" cellspacing=\"0\"><tr valign=\"top\"><td width=\"25%\">&nbsp;</td><td align=\"center\" nowrap=\"\"><input name=\"ie\" value=\"windows-1251\" type=\"hidden\"><input value=\"ru\" name=\"hl\" type=\"hidden\"><input name=\"source\" type=\"hidden\" value=\"hp\"><input name=\"biw\" type=\"hidden\"><input name=\"bih\" type=\"hidden\"><div class=\"ds\" style=\"height:32px;margin:4px 0\"><div style=\"position:relative;zoom:1\"><input class=\"lst Ucigb\" style=\"margin:0;padding:5px 8px 0 6px;vertical-align:top;color:#000;padding-right:38px\" autocomplete=\"off\" value=\"\" title=\"Поиск в Google\" maxlength=\"2048\" name=\"q\" size=\"57\"><img src=\"/textinputassistant/tia.png\" style=\"position:absolute;cursor:pointer;right:5px;top:4px;z-index:300\" data-script-url=\"/textinputassistant/11/ru_tia.js\" id=\"tsuid_1\" alt=\"\" height=\"23\" width=\"27\"><script nonce=\"J8DI2i4ka6bPOzLljm-CTA\">(function(){var id='tsuid_1';document.getElementById(id).onclick = function(){var s = document.createElement('script');s.src = this.getAttribute('data-script-url');(document.getElementById('xjsc')||document.body).appendChild(s);};})();</script></div></div><br style=\"line-height:0\"><span class=\"ds\"><span class=\"lsbb\"><input class=\"lsb\" value=\"Поиск в Google\" name=\"btnG\" type=\"submit\"></span></span><span class=\"ds\"><span class=\"lsbb\"><input class=\"lsb\" id=\"tsuid_2\" value=\"Мне повезёт!\" name=\"btnI\" type=\"submit\"><script nonce=\"J8DI2i4ka6bPOzLljm-CTA\">(function(){var id='tsuid_2';document.getElementById(id).onclick = function(){if (this.form.q.value){this.checked = 1;if (this.form.iflsig)this.form.iflsig.disabled = false;}\n",
      "else top.location='/doodles/';};})();</script><input value=\"AOEireoAAAAAZEhByjaJ11VKXsXSYxqWURZU-50npQIL\" name=\"iflsig\" type=\"hidden\"></span></span></td><td class=\"fl sblc\" align=\"left\" nowrap=\"\" width=\"25%\"><a href=\"/advanced_search?hl=ru&amp;authuser=0\">Расширенный поиск</a></td></tr></table><input id=\"gbv\" name=\"gbv\" type=\"hidden\" value=\"1\"><script nonce=\"J8DI2i4ka6bPOzLljm-CTA\">(function(){var a,b=\"1\";if(document&&document.getElementById)if(\"undefined\"!=typeof XMLHttpRequest)b=\"2\";else if(\"undefined\"!=typeof ActiveXObject){var c,d,e=[\"MSXML2.XMLHTTP.6.0\",\"MSXML2.XMLHTTP.3.0\",\"MSXML2.XMLHTTP\",\"Microsoft.XMLHTTP\"];for(c=0;d=e[c++];)try{new ActiveXObject(d),b=\"2\"}catch(h){}}a=b;if(\"2\"==a&&-1==location.search.indexOf(\"&gbv=2\")){var f=google.gbvu,g=document.getElementById(\"gbv\");g&&(g.value=a);f&&window.setTimeout(function(){location.href=f},0)};}).call(this);</script></form><div id=\"gac_scont\"></div><div style=\"font-size:83%;min-height:3.5em\"><br></div><span id=\"footer\"><div style=\"font-size:10pt\"><div style=\"margin:19px auto;text-align:center\" id=\"WqQANb\"><a href=\"/intl/ru/ads/\">Реклама</a><a href=\"http://www.google.ru/intl/ru/services/\">Решения для бизнеса</a><a href=\"/intl/ru/about.html\">Всё о Google</a><a href=\"http://www.google.ru/setprefdomain?prefdom=US&amp;sig=K_6xkk2sqcyRxtyw2BcjAs4mYhi5A%3D\" id=\"fehl\">Google.com</a></div></div><p style=\"font-size:8pt;color:#70757a\">&copy; 2023 - <a href=\"/intl/ru/policies/privacy/\">Конфиденциальность</a> - <a href=\"/intl/ru/policies/terms/\">Условия</a></p></span></center><script nonce=\"J8DI2i4ka6bPOzLljm-CTA\">(function(){window.google.cdo={height:757,width:1440};(function(){var a=window.innerWidth,b=window.innerHeight;if(!a||!b){var c=window.document,d=\"CSS1Compat\"==c.compatMode?c.documentElement:c.body;a=d.clientWidth;b=d.clientHeight}a&&b&&(a!=google.cdo.width||b!=google.cdo.height)&&google.log(\"\",\"\",\"/client_204?&atyp=i&biw=\"+a+\"&bih=\"+b+\"&ei=\"+google.kEI);}).call(this);})();</script> <script nonce=\"J8DI2i4ka6bPOzLljm-CTA\">(function(){google.xjs={ck:'xjs.hp.cZMjK1rN2dw.L.X.O',cs:'ACT90oEFZPqTE97uVvbGpEys1hTbGs4CIQ',excm:[]};})();</script>  <script nonce=\"J8DI2i4ka6bPOzLljm-CTA\">(function(){var u='/xjs/_/js/k\\x3dxjs.hp.en.-vLhwVhV4Cw.O/am\\x3dAAAAOgEAFABY/d\\x3d1/ed\\x3d1/rs\\x3dACT90oEGAYdLzWbt4j8R1WMJkwNnIFX2tA/m\\x3dsb_he,d';var amd=0;\n",
      "var e=this||self,f=function(c){return c};var h;var n=function(c,g){this.g=g===l?c:\"\"};n.prototype.toString=function(){return this.g+\"\"};var l={};\n",
      "function p(){var c=u,g=function(){};google.lx=google.stvsc?g:function(){google.timers&&google.timers.load&&google.tick&&google.tick(\"load\",\"xjsls\");var a=document;var b=\"SCRIPT\";\"application/xhtml+xml\"===a.contentType&&(b=b.toLowerCase());b=a.createElement(b);a=null===c?\"null\":void 0===c?\"undefined\":c;if(void 0===h){var d=null;var m=e.trustedTypes;if(m&&m.createPolicy){try{d=m.createPolicy(\"goog#html\",{createHTML:f,createScript:f,createScriptURL:f})}catch(r){e.console&&e.console.error(r.message)}h=\n",
      "d}else h=d}a=(d=h)?d.createScriptURL(a):a;a=new n(a,l);b.src=a instanceof n&&a.constructor===n?a.g:\"type_error:TrustedResourceUrl\";var k,q;(k=(a=null==(q=(k=(b.ownerDocument&&b.ownerDocument.defaultView||window).document).querySelector)?void 0:q.call(k,\"script[nonce]\"))?a.nonce||a.getAttribute(\"nonce\")||\"\":\"\")&&b.setAttribute(\"nonce\",k);document.body.appendChild(b);google.psa=!0;google.lx=g};google.bx||google.lx()};google.xjsu=u;e._F_jsUrl=u;setTimeout(function(){0<amd?google.caft(function(){return p()},amd):p()},0);})();window._ = window._ || {};window._DumpException = _._DumpException = function(e){throw e;};window._s = window._s || {};_s._DumpException = _._DumpException;window._qs = window._qs || {};_qs._DumpException = _._DumpException;function _F_installCss(c){}\n",
      "(function(){google.jl={blt:'none',chnk:0,dw:false,dwu:true,emtn:0,end:0,ico:false,ikb:0,ine:false,injs:'none',injt:0,injth:0,injv2:false,lls:'default',pdt:0,rep:0,snet:true,strt:0,ubm:false,uwp:true};})();(function(){var pmc='{\\x22d\\x22:{},\\x22sb_he\\x22:{\\x22agen\\x22:true,\\x22cgen\\x22:true,\\x22client\\x22:\\x22heirloom-hp\\x22,\\x22dh\\x22:true,\\x22ds\\x22:\\x22\\x22,\\x22fl\\x22:true,\\x22host\\x22:\\x22google.ru\\x22,\\x22jsonp\\x22:true,\\x22msgs\\x22:{\\x22cibl\\x22:\\x22\\\\u0423\\\\u0434\\\\u0430\\\\u043b\\\\u0438\\\\u0442\\\\u044c \\\\u043f\\\\u043e\\\\u0438\\\\u0441\\\\u043a\\\\u043e\\\\u0432\\\\u044b\\\\u0439 \\\\u0437\\\\u0430\\\\u043f\\\\u0440\\\\u043e\\\\u0441\\x22,\\x22dym\\x22:\\x22\\\\u0412\\\\u043e\\\\u0437\\\\u043c\\\\u043e\\\\u0436\\\\u043d\\\\u043e, \\\\u0432\\\\u044b \\\\u0438\\\\u043c\\\\u0435\\\\u043b\\\\u0438 \\\\u0432 \\\\u0432\\\\u0438\\\\u0434\\\\u0443:\\x22,\\x22lcky\\x22:\\x22\\\\u041c\\\\u043d\\\\u0435 \\\\u043f\\\\u043e\\\\u0432\\\\u0435\\\\u0437\\\\u0451\\\\u0442!\\x22,\\x22lml\\x22:\\x22\\\\u041f\\\\u043e\\\\u0434\\\\u0440\\\\u043e\\\\u0431\\\\u043d\\\\u0435\\\\u0435...\\x22,\\x22psrc\\x22:\\x22\\\\u042d\\\\u0442\\\\u043e\\\\u0442 \\\\u0437\\\\u0430\\\\u043f\\\\u0440\\\\u043e\\\\u0441 \\\\u0431\\\\u044b\\\\u043b \\\\u0443\\\\u0434\\\\u0430\\\\u043b\\\\u0435\\\\u043d \\\\u0438\\\\u0437 \\\\u0432\\\\u0430\\\\u0448\\\\u0435\\\\u0439 \\\\u003Ca href\\x3d\\\\\\x22/history\\\\\\x22\\\\u003E\\\\u0438\\\\u0441\\\\u0442\\\\u043e\\\\u0440\\\\u0438\\\\u0438 \\\\u0432\\\\u0435\\\\u0431-\\\\u043f\\\\u043e\\\\u0438\\\\u0441\\\\u043a\\\\u0430\\\\u003C/a\\\\u003E\\x22,\\x22psrl\\x22:\\x22\\\\u0423\\\\u0434\\\\u0430\\\\u043b\\\\u0438\\\\u0442\\\\u044c\\x22,\\x22sbit\\x22:\\x22\\\\u041f\\\\u043e\\\\u0438\\\\u0441\\\\u043a \\\\u043f\\\\u043e \\\\u043a\\\\u0430\\\\u0440\\\\u0442\\\\u0438\\\\u043d\\\\u043a\\\\u0435\\x22,\\x22srch\\x22:\\x22\\\\u041f\\\\u043e\\\\u0438\\\\u0441\\\\u043a \\\\u0432 Google\\x22},\\x22ovr\\x22:{},\\x22pq\\x22:\\x22\\x22,\\x22rfs\\x22:[],\\x22sbas\\x22:\\x220 3px 8px 0 rgba(0,0,0,0.2),0 0 0 1px rgba(0,0,0,0.08)\\x22,\\x22stok\\x22:\\x22j6bipLHE3mHM9XWYq_VctCRo2bg\\x22}}';google.pmc=JSON.parse(pmc);})();</script>       </body></html>\n"
     ]
    },
    {
     "name": "stderr",
     "output_type": "stream",
     "text": [
      "< X-Frame-Options: SAMEORIGIN\n",
      "\n",
      "< Set-Cookie: 1P_JAR=2023-04-25-20; expires=Thu, 25-May-2023 20:10:34 GMT; path=/; domain=.google.ru; Secure\n",
      "\n",
      "< Set-Cookie: AEC=AUEFqZd8QowLJsIef8J0MqwZiKLbOqPpePGHCbRbBF9pLmLWS3SS17m6MA; expires=Sun, 22-Oct-2023 20:10:34 GMT; path=/; domain=.google.ru; Secure; HttpOnly; SameSite=lax\n",
      "\n",
      "< Set-Cookie: NID=511=JJ3NCt58JB5chhQnFAz2W45o_D6Q8Kl9LJ25PzyruuU6rDsbq0HZCJGKkJuBQDp2E3Tw4U13Sxoy_CgKeWQsj3CRFs5D_NrIOfQIBCwOj8rY6z9FeP0sTFBmsGQ_EUlQZoRwtrMen7NDOhV2yc8FgaatkwRppflu5uVzPK1cG90; expires=Wed, 25-Oct-2023 20:10:34 GMT; path=/; domain=.google.ru; HttpOnly\n",
      "\n",
      "< Accept-Ranges: none\n",
      "\n",
      "< Vary: Accept-Encoding\n",
      "\n",
      "< Transfer-Encoding: chunked\n",
      "\n",
      "< \n",
      "\n",
      "{ [5909 bytes data]\n",
      "\n",
      "100 15992    0 15992    0     0  30927      0 --:--:-- --:--:-- --:--:-- 30992\n",
      "* Connection #0 to host www.google.ru left intact\n"
     ]
    }
   ],
   "source": [
    "! curl -v http://www.google.ru"
   ]
  },
  {
   "cell_type": "markdown",
   "id": "e07a37ae",
   "metadata": {},
   "source": [
    "Атрибуты классы теги и id. Id имеют уникальность\n",
    "Xpath:\n",
    "/html/body/div/p\n",
    "//div[contains(@class,'__icon_weather__')]"
   ]
  },
  {
   "cell_type": "code",
   "execution_count": 2,
   "id": "e8ffdd87",
   "metadata": {},
   "outputs": [
    {
     "name": "stdout",
     "output_type": "stream",
     "text": [
      "Requirement already satisfied: lxml in c:\\users\\alex\\devprogs\\anaconda\\lib\\site-packages (4.8.0)\n",
      "Requirement already satisfied: requests in c:\\users\\alex\\devprogs\\anaconda\\lib\\site-packages (2.27.1)\n",
      "Requirement already satisfied: urllib3<1.27,>=1.21.1 in c:\\users\\alex\\devprogs\\anaconda\\lib\\site-packages (from requests) (1.26.9)\n",
      "Requirement already satisfied: certifi>=2017.4.17 in c:\\users\\alex\\devprogs\\anaconda\\lib\\site-packages (from requests) (2021.10.8)\n",
      "Requirement already satisfied: idna<4,>=2.5 in c:\\users\\alex\\devprogs\\anaconda\\lib\\site-packages (from requests) (3.3)\n",
      "Requirement already satisfied: charset-normalizer~=2.0.0 in c:\\users\\alex\\devprogs\\anaconda\\lib\\site-packages (from requests) (2.0.4)\n"
     ]
    }
   ],
   "source": [
    "! pip install lxml\n",
    "! pip install requests"
   ]
  },
  {
   "cell_type": "code",
   "execution_count": 3,
   "id": "0a010f28",
   "metadata": {},
   "outputs": [],
   "source": [
    "from pprint import pprint\n",
    "from lxml import html\n",
    "import requests\n"
   ]
  },
  {
   "cell_type": "code",
   "execution_count": 5,
   "id": "51115f0e",
   "metadata": {},
   "outputs": [
    {
     "name": "stdout",
     "output_type": "stream",
     "text": [
      "<body></body><script nonce='3f65eb65872232787095c55aa5790d8f'>var it = {\"host\":\"https:\\u002F\\u002Fsso.dzen.ru\\u002Finstall?uuid=b2851c28-02e9-4f84-ab99-7a8d5d44b29d\",\"retpath\":\"https:\\u002F\\u002Fdzen.ru\\u002F?yredirect=true\"};(function() { var form = document.createElement('form'); var element1 = document.createElement('input'); var element2 = document.createElement('input'); element1.name = 'retpath'; element1.type = 'hidden'; element1.value = it.retpath; form.appendChild(element1); element2.name = 'container'; element2.type = 'hidden'; element2.value = '1682455157.10135518.qB8ArrAHL3RiHrf7.p54VosqA3fy641elFKcGfe4-T9MoWvMsA7s-kDnGADrqYFE1CfF51z2JyBGZBBpW7GM8VzBpHvYtV6Ld4CYfbPhSOs2cKYt9qucjapBizB1Cu5SMZFoHp-mqkkjaeMHfZacXEoTh2DcWLlXih1XYkOkZE698DRnfO0VMqsUWP3gKAj531XHV2W3HyGfhIdyBuFmNqygDPoqP7Ve5ibi9vBzX6uEFeMZ0eqn70EwJfK7QOBQfZmMwFLxl9lrNrwq1jo18Ws9VkpNRXwyYx5_FPrSiNNgs73CjKpCylS230m4zXVfXEgOkZgVXJOa_Xg7AMsSSwJxWv-G-w9e_QIQ6EtUY7q2nJNAJ6uQ7-w536i9_-tyk_bw7GSftocjdZBTq-QbfbdxYW1kFJHXbIYnZ1fjQUXxLxFJv7_RTwyYrUzl1sHXB1bB2G0E2l8ZLRQgE9ZAvPenn6nFc5dMqy9US0Ry2B2Dh9R8V4XtNFfTBrSl5jIqbAVAw68wYUcyKXJRjOWB_7_qrX5VeoiBQ_bqnBqb7P6gtR2QZHuAM2qLEzRQC7vjtoMGWDv40oYt83p6dVGjpEo5JiG9m8bzMlnq5S4QTkPHeH41pDoHYHWF77uAp-xwItypFjWkjh9HMIYIXNcfA8JdPNR4KIZeTzKxDIWRR3TlimbYzyGFJSBKztIwY0vSmz3EKtDNTXV1Hu-OCWudqQGS2bYID1BbPbsBSzL0HuwTpZNUmkP91WaTGLtBftfv-H1J-oREi6grx35mKqoGGlsr0RPgcQqUNWayM-YBFk6UlMgRqevnDQKj3EmmOkJJQXE8BHGrfQZsQtOtvqeVJAwcfIJeLcB58tsVlNbLOQVadDcgS0L76hIoNXnayegBrt2uotovmE9qUUGVzbJVdmhSv8THjw15586BQbVZ3ZHcMEg2MSIv8c08hBEhoFQPDkH7cVhqfoVAXeydqMbc5svxfuvM5YviS.kIfQ1aXI9dnvEIpT6bW5Fg'; form.appendChild(element2); form.method = 'POST'; form.action = it.host; document.body.appendChild(form); form.submit();})();</script>\n"
     ]
    }
   ],
   "source": [
    "url ='https://www.yandex.ru'\n",
    "headers={\n",
    "    'User-Agent': 'Mozilla/5.0 (Windows NT 10.0; Win64; x64) AppleWebKit/537.36 (KHTML, like Gecko) Chrome/112.0.0.0 Safari/537.36'\n",
    "}\n",
    "response = requests.get(url,headers)\n",
    "print (response.text)"
   ]
  },
  {
   "cell_type": "code",
   "execution_count": 8,
   "id": "3af5584c",
   "metadata": {},
   "outputs": [],
   "source": [
    "dom = html.fromstring(response.text)\n",
    "link_list = dom.xpath('//ol/li')\n",
    "\n",
    "# link_list = dom.xpath(\"//span[contains(@class,'-color_primary_')]/span/text()\")"
   ]
  },
  {
   "cell_type": "code",
   "execution_count": 9,
   "id": "a2474a2e",
   "metadata": {},
   "outputs": [
    {
     "data": {
      "text/plain": [
       "[]"
      ]
     },
     "execution_count": 9,
     "metadata": {},
     "output_type": "execute_result"
    }
   ],
   "source": [
    "link_list"
   ]
  },
  {
   "cell_type": "code",
   "execution_count": null,
   "id": "c44025eb",
   "metadata": {},
   "outputs": [],
   "source": []
  }
 ],
 "metadata": {
  "kernelspec": {
   "display_name": "Python 3 (ipykernel)",
   "language": "python",
   "name": "python3"
  },
  "language_info": {
   "codemirror_mode": {
    "name": "ipython",
    "version": 3
   },
   "file_extension": ".py",
   "mimetype": "text/x-python",
   "name": "python",
   "nbconvert_exporter": "python",
   "pygments_lexer": "ipython3",
   "version": "3.9.12"
  }
 },
 "nbformat": 4,
 "nbformat_minor": 5
}
