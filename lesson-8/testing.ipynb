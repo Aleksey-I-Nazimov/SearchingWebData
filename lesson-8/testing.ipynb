{
 "cells": [
  {
   "cell_type": "code",
   "execution_count": 1,
   "id": "f5c99c6d",
   "metadata": {},
   "outputs": [],
   "source": [
    "import requests as rq\n",
    "from pprint import pprint\n",
    "from lxml import html"
   ]
  },
  {
   "cell_type": "code",
   "execution_count": 9,
   "id": "a8250301",
   "metadata": {},
   "outputs": [],
   "source": [
    "from selenium import webdriver\n",
    "from selenium.webdriver.common.by import By\n",
    "from selenium.webdriver.common.keys import Keys\n",
    "from selenium.webdriver.chrome.service import Service\n",
    "from selenium.webdriver.chrome.options import Options\n",
    "from selenium.webdriver.support.ui import WebDriverWait\n",
    "from selenium.webdriver.support import expected_conditions as EC \n",
    "from selenium.webdriver.common.action_chains import ActionChains\n",
    "\n",
    "from time import sleep\n",
    "from pynput.mouse import Button, Controller\n",
    "\n",
    "from random import randint as next_int\n",
    "from random import uniform as next_float\n",
    "import json\n",
    "\n",
    "\n",
    "\n",
    "def make_options ():\n",
    "    options = Options()\n",
    "    options.accept_insecure_certs = True\n",
    "    options.page_load_strategy = 'normal'\n",
    "    #options.add_argument(\"--headless\")\n",
    "    options.add_argument('--ignore-certificate-errors')\n",
    "    options.add_argument(\"user-agent=Mozilla/5.0 (Windows NT 10.0; Win64; x64) AppleWebKit/537.36 (KHTML, like Gecko) Chrome/112.0.0.0 Safari/537.36\")\n",
    "    options.add_argument(\"accept=text/html,application/xhtml+xml,application/xml;q=0.9,image/avif,image/webp,image/apng,*/*;q=0.8,application/signed-exchange;v=b3;q=0.7\")\n",
    "\n",
    "    # Adding argument to disable the AutomationControlled flag \n",
    "    options.add_argument(\"--disable-blink-features=AutomationControlled\") \n",
    "    options.add_argument(\"disable-blink-features=AutomationControlled\")\n",
    "\n",
    "    # Exclude the collection of enable-automation switches \n",
    "    options.add_experimental_option(\"excludeSwitches\", [\"enable-automation\"]) \n",
    "\n",
    "    # Turn-off userAutomationExtension \n",
    "    options.add_experimental_option(\"useAutomationExtension\", False)\n",
    "    return options;\n",
    "\n",
    "def get (driver,url,without_cookie=True,action=None):\n",
    "    cookies = driver.get_cookies()\n",
    "    print (\"  --> GET: {}\".format(url))\n",
    "    print (\"  --> Cookies: {}\".format(cookies))\n",
    "    if without_cookie:\n",
    "        for cookie in cookies:\n",
    "            driver.delete_cookie(cookie[\"name\"])\n",
    "    driver.get(url)\n",
    "    sleep(1+next_int(1,3))\n",
    "    if action!=None :\n",
    "        action(driver)\n",
    "    return driver\n",
    "    \n",
    "def open_chrome_driver (url,without_cookie=False):\n",
    "    options = make_options()\n",
    "    driver = webdriver.Chrome(chrome_options=options)\n",
    "    driver.execute_script(\"Object.defineProperty(navigator, 'webdriver', {get: () => undefined})\")\n",
    "    driver.execute_cdp_cmd(\"Network.setUserAgentOverride\", {\"userAgent\": \"Mozilla/5.0 (Windows NT 10.0; Win64; x64) AppleWebKit/537.36 (KHTML, like Gecko) Chrome/112.0.0.0 Safari/537.36\"}) \n",
    "    driver.maximize_window()\n",
    "    return get(driver=driver,url=url,without_cookie=without_cookie)\n",
    "\n",
    "def try_to_find_and_click (driver,xpath):\n",
    "    try:\n",
    "        WebDriverWait(driver, 20).until(EC.visibility_of_all_elements_located((By.XPATH, xpath)))\n",
    "        el = driver.find_element(By.XPATH,xpath)\n",
    "        print (\"  --> Making JS click: {} on {}\".format(xpath,el));\n",
    "        el.click()\n",
    "        return el;\n",
    "    except Exception as e:\n",
    "        print (\"  --> Error: Xpath not found {}\\n{}\".format(xpath,e))\n",
    "        return None;\n",
    "\n",
    "\n",
    "\n",
    "\n"
   ]
  },
  {
   "cell_type": "code",
   "execution_count": 30,
   "id": "c4416587",
   "metadata": {},
   "outputs": [
    {
     "name": "stderr",
     "output_type": "stream",
     "text": [
      "C:\\Users\\Alex\\AppData\\Local\\Temp\\ipykernel_12972\\3698507712.py:54: DeprecationWarning: use options instead of chrome_options\n",
      "  driver = webdriver.Chrome(chrome_options=options)\n"
     ]
    },
    {
     "name": "stdout",
     "output_type": "stream",
     "text": [
      "  --> GET: https://id.vk.com/auth?v=1.46.0&app_id=7497650&uuid=aad00a2185&redirect_uri=https%3A%2F%2Fid.vk.com%2Faccount&app_settings=W10%3D&action=&scheme=bright_light\n",
      "  --> Cookies: []\n",
      "  --> Making JS click: //input[contains(@class,'vkui')] on <selenium.webdriver.remote.webelement.WebElement (session=\"1b99c0a5b3db9d98b62af1c5989b9529\", element=\"1F0F7CB613B36BDBF188CA6F169BACE4_element_3\")>\n"
     ]
    }
   ],
   "source": [
    "url = \"https://id.vk.com/auth?v=1.46.0&app_id=7497650&uuid=aad00a2185&redirect_uri=https%3A%2F%2Fid.vk.com%2Faccount&app_settings=W10%3D&action=&scheme=bright_light\"\n",
    "mobile_phone = \"915278****\"\n",
    "\n",
    "driver = open_chrome_driver (url=url)\n",
    "\n",
    "telephon_phield = try_to_find_and_click(driver=driver,xpath=\"//input[contains(@class,'vkui')]\")\n",
    "telephon_phield.send_keys(mobile_phone+Keys.ENTER)\n",
    "\n",
    "sleep(10)"
   ]
  },
  {
   "cell_type": "code",
   "execution_count": 31,
   "id": "72f3af4b",
   "metadata": {},
   "outputs": [
    {
     "name": "stdout",
     "output_type": "stream",
     "text": [
      "  --> Making JS click: //input[contains(@class,'vkc')] on <selenium.webdriver.remote.webelement.WebElement (session=\"1b99c0a5b3db9d98b62af1c5989b9529\", element=\"1F0F7CB613B36BDBF188CA6F169BACE4_element_9\")>\n"
     ]
    }
   ],
   "source": [
    "sms_code = \"new_code\"\n",
    "\n",
    "sms_code_field = try_to_find_and_click(driver=driver,xpath=\"//input[contains(@class,'vkc')]\")\n",
    "sms_code_field.send_keys(sms_code+Keys.ENTER)\n"
   ]
  },
  {
   "cell_type": "code",
   "execution_count": 32,
   "id": "d1c1f049",
   "metadata": {},
   "outputs": [
    {
     "name": "stdout",
     "output_type": "stream",
     "text": [
      "  --> Making JS click: //input[contains(@type,'password')] on <selenium.webdriver.remote.webelement.WebElement (session=\"1b99c0a5b3db9d98b62af1c5989b9529\", element=\"1F0F7CB613B36BDBF188CA6F169BACE4_element_12\")>\n"
     ]
    }
   ],
   "source": [
    "password = \"****BomBus16\"\n",
    "\n",
    "sms_code_field = try_to_find_and_click(driver=driver,xpath=\"//input[contains(@type,'password')]\")\n",
    "sms_code_field.send_keys(password+Keys.ENTER)"
   ]
  },
  {
   "cell_type": "code",
   "execution_count": 33,
   "id": "381ad834",
   "metadata": {},
   "outputs": [
    {
     "name": "stdout",
     "output_type": "stream",
     "text": [
      "  --> Making JS click: //a[contains(@href,'#/main')] on <selenium.webdriver.remote.webelement.WebElement (session=\"1b99c0a5b3db9d98b62af1c5989b9529\", element=\"1620683E336F87D061EB3557C053D3C2_element_19\")>\n"
     ]
    },
    {
     "data": {
      "text/plain": [
       "<selenium.webdriver.remote.webelement.WebElement (session=\"1b99c0a5b3db9d98b62af1c5989b9529\", element=\"1620683E336F87D061EB3557C053D3C2_element_19\")>"
      ]
     },
     "execution_count": 33,
     "metadata": {},
     "output_type": "execute_result"
    }
   ],
   "source": [
    "try_to_find_and_click(driver=driver,xpath=\"//a[contains(@href,'#/main')]\")"
   ]
  },
  {
   "cell_type": "code",
   "execution_count": 34,
   "id": "ba5a557b",
   "metadata": {},
   "outputs": [
    {
     "name": "stdout",
     "output_type": "stream",
     "text": [
      "  --> Making JS click: //button[contains(@aria-label,'Закрыть')] on <selenium.webdriver.remote.webelement.WebElement (session=\"1b99c0a5b3db9d98b62af1c5989b9529\", element=\"1620683E336F87D061EB3557C053D3C2_element_22\")>\n"
     ]
    },
    {
     "data": {
      "text/plain": [
       "<selenium.webdriver.remote.webelement.WebElement (session=\"1b99c0a5b3db9d98b62af1c5989b9529\", element=\"1620683E336F87D061EB3557C053D3C2_element_22\")>"
      ]
     },
     "execution_count": 34,
     "metadata": {},
     "output_type": "execute_result"
    }
   ],
   "source": [
    "try_to_find_and_click(driver=driver,xpath=\"//button[contains(@aria-label,'Закрыть')]\")"
   ]
  },
  {
   "cell_type": "code",
   "execution_count": 35,
   "id": "f011735a",
   "metadata": {},
   "outputs": [
    {
     "name": "stdout",
     "output_type": "stream",
     "text": [
      "  --> Making JS click: //a[contains(@href,'/friends')] on <selenium.webdriver.remote.webelement.WebElement (session=\"1b99c0a5b3db9d98b62af1c5989b9529\", element=\"A95E627D062A71142DF7246F9262E8BE_element_131\")>\n"
     ]
    },
    {
     "data": {
      "text/plain": [
       "<selenium.webdriver.remote.webelement.WebElement (session=\"1b99c0a5b3db9d98b62af1c5989b9529\", element=\"A95E627D062A71142DF7246F9262E8BE_element_131\")>"
      ]
     },
     "execution_count": 35,
     "metadata": {},
     "output_type": "execute_result"
    }
   ],
   "source": [
    "try_to_find_and_click(driver=driver,xpath=\"//a[contains(@href,'/friends')]\")"
   ]
  },
  {
   "cell_type": "code",
   "execution_count": 36,
   "id": "5c5df9b1",
   "metadata": {},
   "outputs": [
    {
     "name": "stdout",
     "output_type": "stream",
     "text": [
      "  --> Making JS click: //button[contains(@id,'friends_deny')] on <selenium.webdriver.remote.webelement.WebElement (session=\"1b99c0a5b3db9d98b62af1c5989b9529\", element=\"A95E627D062A71142DF7246F9262E8BE_element_416\")>\n"
     ]
    },
    {
     "data": {
      "text/plain": [
       "<selenium.webdriver.remote.webelement.WebElement (session=\"1b99c0a5b3db9d98b62af1c5989b9529\", element=\"A95E627D062A71142DF7246F9262E8BE_element_416\")>"
      ]
     },
     "execution_count": 36,
     "metadata": {},
     "output_type": "execute_result"
    }
   ],
   "source": [
    "try_to_find_and_click(driver=driver,xpath=\"//button[contains(@id,'friends_deny')]\")"
   ]
  },
  {
   "cell_type": "code",
   "execution_count": 39,
   "id": "714cd81d",
   "metadata": {},
   "outputs": [
    {
     "name": "stdout",
     "output_type": "stream",
     "text": [
      "  --> Making JS click: //a[contains(@href,'friends')] on <selenium.webdriver.remote.webelement.WebElement (session=\"1b99c0a5b3db9d98b62af1c5989b9529\", element=\"A95E627D062A71142DF7246F9262E8BE_element_131\")>\n"
     ]
    },
    {
     "data": {
      "text/plain": [
       "<selenium.webdriver.remote.webelement.WebElement (session=\"1b99c0a5b3db9d98b62af1c5989b9529\", element=\"A95E627D062A71142DF7246F9262E8BE_element_131\")>"
      ]
     },
     "execution_count": 39,
     "metadata": {},
     "output_type": "execute_result"
    }
   ],
   "source": [
    "try_to_find_and_click(driver=driver,xpath=\"//a[contains(@href,'friends')]\")"
   ]
  },
  {
   "cell_type": "code",
   "execution_count": 62,
   "id": "ef93e434",
   "metadata": {},
   "outputs": [
    {
     "data": {
      "text/plain": [
       "[<selenium.webdriver.remote.webelement.WebElement (session=\"1b99c0a5b3db9d98b62af1c5989b9529\", element=\"A95E627D062A71142DF7246F9262E8BE_element_679\")>,\n",
       " <selenium.webdriver.remote.webelement.WebElement (session=\"1b99c0a5b3db9d98b62af1c5989b9529\", element=\"A95E627D062A71142DF7246F9262E8BE_element_680\")>,\n",
       " <selenium.webdriver.remote.webelement.WebElement (session=\"1b99c0a5b3db9d98b62af1c5989b9529\", element=\"A95E627D062A71142DF7246F9262E8BE_element_681\")>,\n",
       " <selenium.webdriver.remote.webelement.WebElement (session=\"1b99c0a5b3db9d98b62af1c5989b9529\", element=\"A95E627D062A71142DF7246F9262E8BE_element_682\")>,\n",
       " <selenium.webdriver.remote.webelement.WebElement (session=\"1b99c0a5b3db9d98b62af1c5989b9529\", element=\"A95E627D062A71142DF7246F9262E8BE_element_683\")>,\n",
       " <selenium.webdriver.remote.webelement.WebElement (session=\"1b99c0a5b3db9d98b62af1c5989b9529\", element=\"A95E627D062A71142DF7246F9262E8BE_element_684\")>,\n",
       " <selenium.webdriver.remote.webelement.WebElement (session=\"1b99c0a5b3db9d98b62af1c5989b9529\", element=\"A95E627D062A71142DF7246F9262E8BE_element_685\")>,\n",
       " <selenium.webdriver.remote.webelement.WebElement (session=\"1b99c0a5b3db9d98b62af1c5989b9529\", element=\"A95E627D062A71142DF7246F9262E8BE_element_686\")>,\n",
       " <selenium.webdriver.remote.webelement.WebElement (session=\"1b99c0a5b3db9d98b62af1c5989b9529\", element=\"A95E627D062A71142DF7246F9262E8BE_element_687\")>,\n",
       " <selenium.webdriver.remote.webelement.WebElement (session=\"1b99c0a5b3db9d98b62af1c5989b9529\", element=\"A95E627D062A71142DF7246F9262E8BE_element_688\")>,\n",
       " <selenium.webdriver.remote.webelement.WebElement (session=\"1b99c0a5b3db9d98b62af1c5989b9529\", element=\"A95E627D062A71142DF7246F9262E8BE_element_689\")>,\n",
       " <selenium.webdriver.remote.webelement.WebElement (session=\"1b99c0a5b3db9d98b62af1c5989b9529\", element=\"A95E627D062A71142DF7246F9262E8BE_element_690\")>,\n",
       " <selenium.webdriver.remote.webelement.WebElement (session=\"1b99c0a5b3db9d98b62af1c5989b9529\", element=\"A95E627D062A71142DF7246F9262E8BE_element_691\")>,\n",
       " <selenium.webdriver.remote.webelement.WebElement (session=\"1b99c0a5b3db9d98b62af1c5989b9529\", element=\"A95E627D062A71142DF7246F9262E8BE_element_692\")>,\n",
       " <selenium.webdriver.remote.webelement.WebElement (session=\"1b99c0a5b3db9d98b62af1c5989b9529\", element=\"A95E627D062A71142DF7246F9262E8BE_element_693\")>,\n",
       " <selenium.webdriver.remote.webelement.WebElement (session=\"1b99c0a5b3db9d98b62af1c5989b9529\", element=\"A95E627D062A71142DF7246F9262E8BE_element_708\")>,\n",
       " <selenium.webdriver.remote.webelement.WebElement (session=\"1b99c0a5b3db9d98b62af1c5989b9529\", element=\"A95E627D062A71142DF7246F9262E8BE_element_709\")>,\n",
       " <selenium.webdriver.remote.webelement.WebElement (session=\"1b99c0a5b3db9d98b62af1c5989b9529\", element=\"A95E627D062A71142DF7246F9262E8BE_element_710\")>,\n",
       " <selenium.webdriver.remote.webelement.WebElement (session=\"1b99c0a5b3db9d98b62af1c5989b9529\", element=\"A95E627D062A71142DF7246F9262E8BE_element_711\")>,\n",
       " <selenium.webdriver.remote.webelement.WebElement (session=\"1b99c0a5b3db9d98b62af1c5989b9529\", element=\"A95E627D062A71142DF7246F9262E8BE_element_712\")>,\n",
       " <selenium.webdriver.remote.webelement.WebElement (session=\"1b99c0a5b3db9d98b62af1c5989b9529\", element=\"A95E627D062A71142DF7246F9262E8BE_element_713\")>,\n",
       " <selenium.webdriver.remote.webelement.WebElement (session=\"1b99c0a5b3db9d98b62af1c5989b9529\", element=\"A95E627D062A71142DF7246F9262E8BE_element_714\")>,\n",
       " <selenium.webdriver.remote.webelement.WebElement (session=\"1b99c0a5b3db9d98b62af1c5989b9529\", element=\"A95E627D062A71142DF7246F9262E8BE_element_715\")>,\n",
       " <selenium.webdriver.remote.webelement.WebElement (session=\"1b99c0a5b3db9d98b62af1c5989b9529\", element=\"A95E627D062A71142DF7246F9262E8BE_element_716\")>,\n",
       " <selenium.webdriver.remote.webelement.WebElement (session=\"1b99c0a5b3db9d98b62af1c5989b9529\", element=\"A95E627D062A71142DF7246F9262E8BE_element_717\")>,\n",
       " <selenium.webdriver.remote.webelement.WebElement (session=\"1b99c0a5b3db9d98b62af1c5989b9529\", element=\"A95E627D062A71142DF7246F9262E8BE_element_718\")>,\n",
       " <selenium.webdriver.remote.webelement.WebElement (session=\"1b99c0a5b3db9d98b62af1c5989b9529\", element=\"A95E627D062A71142DF7246F9262E8BE_element_719\")>,\n",
       " <selenium.webdriver.remote.webelement.WebElement (session=\"1b99c0a5b3db9d98b62af1c5989b9529\", element=\"A95E627D062A71142DF7246F9262E8BE_element_720\")>,\n",
       " <selenium.webdriver.remote.webelement.WebElement (session=\"1b99c0a5b3db9d98b62af1c5989b9529\", element=\"A95E627D062A71142DF7246F9262E8BE_element_721\")>,\n",
       " <selenium.webdriver.remote.webelement.WebElement (session=\"1b99c0a5b3db9d98b62af1c5989b9529\", element=\"A95E627D062A71142DF7246F9262E8BE_element_722\")>]"
      ]
     },
     "execution_count": 62,
     "metadata": {},
     "output_type": "execute_result"
    }
   ],
   "source": [
    "friends_element = driver.find_element(By.ID,\"friends_list\")\n",
    "friends_div_list = friends_element.find_elements(By.XPATH,\"//div[contains(@id,'friends_user_row')]\")\n",
    "friends_div_list"
   ]
  },
  {
   "cell_type": "code",
   "execution_count": 67,
   "id": "ce03bba1",
   "metadata": {},
   "outputs": [
    {
     "name": "stdout",
     "output_type": "stream",
     "text": [
      "  --> Error: The element was not found by div[@class='friends_field']\n",
      "  --> Error: The element was not found by div[contains(@class,'friends_photo')]/a[contains(@class,'AvatarRich')]/img[contains(@class,'AvatarRich')]\n",
      "  --> Error: The element was not found by div[contains(@class,'friends_photo')]/a[contains(@class,'AvatarRich')]/img[contains(@class,'AvatarRich')]\n",
      "  --> Error: The element was not found by div[contains(@class,'friends_photo')]/a[contains(@class,'AvatarRich')]/img[contains(@class,'AvatarRich')]\n",
      "  --> Error: The element was not found by div[contains(@class,'friends_photo')]/a[contains(@class,'AvatarRich')]/img[contains(@class,'AvatarRich')]\n",
      "  --> Error: The element was not found by div[contains(@class,'friends_photo')]/a[contains(@class,'AvatarRich')]/img[contains(@class,'AvatarRich')]\n",
      "  --> Error: The element was not found by div[contains(@class,'friends_photo')]/a[contains(@class,'AvatarRich')]/img[contains(@class,'AvatarRich')]\n",
      "  --> Error: The element was not found by div[contains(@class,'friends_photo')]/a[contains(@class,'AvatarRich')]/img[contains(@class,'AvatarRich')]\n",
      "  --> Error: The element was not found by div[contains(@class,'friends_photo')]/a[contains(@class,'AvatarRich')]/img[contains(@class,'AvatarRich')]\n",
      "  --> Error: The element was not found by div[contains(@class,'friends_photo')]/a[contains(@class,'AvatarRich')]/img[contains(@class,'AvatarRich')]\n",
      "  --> Error: The element was not found by div[contains(@class,'friends_photo')]/a[contains(@class,'AvatarRich')]/img[contains(@class,'AvatarRich')]\n",
      "  --> Error: The element was not found by div[contains(@class,'friends_photo')]/a[contains(@class,'AvatarRich')]/img[contains(@class,'AvatarRich')]\n",
      "  --> Error: The element was not found by div[contains(@class,'friends_photo')]/a[contains(@class,'AvatarRich')]/img[contains(@class,'AvatarRich')]\n",
      "  --> Error: The element was not found by div[contains(@class,'friends_photo')]/a[contains(@class,'AvatarRich')]/img[contains(@class,'AvatarRich')]\n",
      "  --> Error: The element was not found by div[contains(@class,'friends_photo')]/a[contains(@class,'AvatarRich')]/img[contains(@class,'AvatarRich')]\n",
      "  --> Error: The element was not found by div[contains(@class,'friends_photo')]/a[contains(@class,'AvatarRich')]/img[contains(@class,'AvatarRich')]\n",
      "[{'id': 'https://vk.com/id152038705', 'name': '****сей Левин', 'img': 'https://sun1-99.userapi.com/s/v1/ig1/V1SApPfKoC9RjtYq4VhiD-aFY_j3mX_RWi9q8IbP0NswM8PoR-l18Eh7Tfxf1g1xC8O1V6sr.jpg?size=100x100&quality=96&crop=8,5,1186,1186&ava=1', 'group': 'Областная Клиническая Больница'}, {'id': 'https://vk.com/id152038705', 'name': '****тасия Безпалева', 'img': 'https://sun1-13.userapi.com/s/v1/ig1/24m9yu5H9knvLxxPZ-hIC_xC3bYhyKRVKhBq7qi1vLtOso10GI7whHCyk8ZayHZToWqQBYnO.jpg?size=100x100&quality=96&crop=0,132,960,960&ava=1', 'group': 'СГУ им. Н. Г. Чернышевского'}, {'id': 'https://vk.com/id152038705', 'name': '****ь Перепёлкин', 'img': 'https://sun1-95.userapi.com/s/v1/ig2/ez7Cgbw56azqAwGuAsU9cphz7lFzGgq31A0ixqg-YbTFF-8gkeIha-f_ZqCLFtz_xOJ7mJnrQhyC4CJeVrrm7XnT.jpg?size=100x100&quality=95&crop=152,0,921,921&ava=1', 'group': 'СГУ им. Н. Г. Чернышевского'}, {'id': 'https://vk.com/id152038705', 'name': '**** Посохина', 'img': 'https://sun1-18.userapi.com/s/v1/ig2/_2ud7J20MHH4mioWDdSUZ_joYpgp9CVjGem5NpPU07boKeeb1kGJ185aZ8h5Crs4p8qhcP0du8shriQmsje5xhhq.jpg?size=100x100&quality=95&crop=43,96,1780,1780&ava=1', 'group': 'СГУ им. Н. Г. Чернышевского'}, {'id': 'https://vk.com/id152038705', 'name': '****я Печникова', 'img': 'https://sun1-13.userapi.com/s/v1/ig2/uqUTu0q6y8_OSXQLh_VuyRAY5AkvVv5yIwS1w2VMwwuQaznsxCo9ScUUt5Kp7oYb8rIBfEcf5a2upR7Aa6a654FF.jpg?size=100x100&quality=95&crop=573,1071,814,814&ava=1', 'group': 'СГУ им. Н. Г. Чернышевского'}, {'id': 'https://vk.com/id152038705', 'name': '****rical Mathmodeling', 'img': 'https://sun1-26.userapi.com/s/v1/ig2/_I9jBM4TDIKg55graUIVrHyuVgLIqTWrhjlijiOou-w79WuuKAON9gGQJhuhFMd_dzOBnlJhpexk5EgU1dB_U-6M.jpg?size=100x100&quality=95&crop=0,268,800,800&ava=1', 'group': None}, {'id': 'https://vk.com/id152038705', 'name': '****ил Лаврентьев', 'img': 'https://sun1-57.userapi.com/s/v1/ig2/DZeoNRfebl_LuOAe-7lD_VH08S8rmvVRLoyNQ8kK2BNhrdM3SJYJwj0pPSF3XH5TmXi6G44GMkZjJWIGk-QnovRb.jpg?size=100x100&quality=95&crop=526,192,1500,1500&ava=1', 'group': '<a mention=\"\" mention_id=\"club132384\" onmouseover=\"mentionOver(this);\" href=\"/sgu_club\" class=\"group_link\">СГУ им Н.Г. Чернышевского</a>'}, {'id': 'https://vk.com/id152038705', 'name': '****лья Лицукова', 'img': 'https://sun1-23.userapi.com/s/v1/ig2/fVzOsdhKOv4j3udjDbCbyNYa1vZMUA-LFDV0QHi_q26eFHyPuLZ-48iGaaDtCOYn4vktchD5UjRBbhjC5MqburEd.jpg?size=100x100&quality=95&crop=2,0,1528,1528&ava=1', 'group': 'МГУ'}, {'id': 'https://vk.com/id152038705', 'name': '****а Прошина', 'img': 'https://sun1-17.userapi.com/s/v1/ig2/oF23nKi6EaTzXPwVZWhQBzy5UdmXUXWlljdxoIDIeyg-v9barpWiCUpywsQTNjaD6MlOXICrmdHgdWne49WTX4Fo.jpg?size=100x100&quality=96&crop=374,0,1326,1326&ava=1', 'group': 'СГУ им. Чернышевского хореографический коллектив \" Homo LuDance Company\" https://vk.com/ludance'}, {'id': 'https://vk.com/id152038705', 'name': '****лана Букина', 'img': 'https://sun1-86.userapi.com/s/v1/ig2/er60J54KLg883MTkTsFSF1JKh3tJvBERFuQRhcu7I-hkk_sPkITWm3gZPUhJchOueOL8WXx2i61XvLtKYU1Jr66x.jpg?size=100x100&quality=95&crop=202,634,982,982&ava=1', 'group': '<a mention=\"\" mention_id=\"club212349821\" onmouseover=\"mentionOver(this);\" href=\"/sarantre64\" class=\"group_link\">Саратовская хореографическая школа «Антре»</a>'}, {'id': 'https://vk.com/id152038705', 'name': '****ила Кутепова', 'img': 'https://sun1-13.userapi.com/s/v1/ig1/PgDC5OSFWzhxD7vRy_dYFEaL0J9hWaytJ0FGTyWv6YJGliQKtS047XISEvmUEeFOwaoI00--.jpg?size=100x100&quality=96&crop=116,109,644,644&ava=1', 'group': 'деканат биологического факультета'}, {'id': 'https://vk.com/id152038705', 'name': '****ша Полковникова', 'img': 'https://sun1-94.userapi.com/s/v1/ig2/g8qKRnpKiFXJ8sm0c4OG8Ynj1L6GYvqBHKL5S27cmlct05gNVEAiTWvIODwSjfe4qBfjeDA93wWd4wT9inwYl-_R.jpg?size=100x100&quality=95&crop=2,317,1077,1077&ava=1', 'group': 'МФПУ «Синергия» (бывш. МФПА, ММИЭИФП)'}, {'id': 'https://vk.com/id152038705', 'name': '****а Лештаева', 'img': 'https://sun1-26.userapi.com/s/v1/if1/1fP9w-x9YEBie3GYoWCovd0e4hKQqmiKhbmeD9kQHc28SS2QCYM6Nfb_gGA33WKv1f7Vr0GM.jpg?size=100x100&quality=96&crop=165,280,1275,1275&ava=1', 'group': 'СГУ им. Н. Г. Чернышевского'}, {'id': 'https://vk.com/id152038705', 'name': '****я Цой', 'img': 'https://sun1-20.userapi.com/s/v1/ig2/furI23k39PJHJfzF6MjPzJAJlmVyp2mLwKHFH5gGi0a9n0czFZY98n6VXcNvUuHPNbyjmOInv0wH21rJWePMncsy.jpg?size=100x100&quality=96&crop=103,279,635,635&ava=1', 'group': 'СГУ им. Н. Г. Чернышевского'}, {'id': 'https://vk.com/id152038705', 'name': '****ира Кайбелева', 'img': 'https://sun1-97.userapi.com/s/v1/if2/aywvQy6LoDt3A8rDI3O2tTDsSdYcl044Llm0N6QBy3kSzfJqaG68RXWftunfPfoAfToFd3rHfJhtysA3f18rDWfP.jpg?size=100x100&quality=96&crop=275,103,983,983&ava=1', 'group': 'СГУ им. Н. Г. Чернышевского'}, {'id': 'https://vk.com/id152038705', 'name': '****на Кушнерук', 'img': None, 'group': 'СГУ им. Н. Г. Чернышевского'}, {'id': 'https://vk.com/id152038705', 'name': '****сик Нехорошко', 'img': None, 'group': 'МИТХТ'}, {'id': 'https://vk.com/id152038705', 'name': '****Плахотник', 'img': None, 'group': 'РГТЭУ (бывш. ЗИСТ, МКИ, МКУ, МГУК)'}, {'id': 'https://vk.com/id152038705', 'name': '****слав Шушунов', 'img': None, 'group': 'ООО \"Зелёная Улица\"'}, {'id': 'https://vk.com/id152038705', 'name': '****ия Родионова', 'img': None, 'group': 'МУДО \"ДЮЦ Фрунзенского района г. Саратова\"'}, {'id': 'https://vk.com/id152038705', 'name': '****н Миславский', 'img': None, 'group': 'СГУ им. Н. Г. Чернышевского'}, {'id': 'https://vk.com/id152038705', 'name': '****я Подобедова', 'img': None, 'group': 'МИТХТ'}, {'id': 'https://vk.com/id152038705', 'name': '****ей Новиков', 'img': None, 'group': '<a mention=\"\" mention_id=\"club103441726\" onmouseover=\"mentionOver(this);\" href=\"/stroysb\" class=\"group_link\">\"СтройСБ\" комплексные системы безопасности</a>'}, {'id': 'https://vk.com/id152038705', 'name': '****лья Бреус', 'img': None, 'group': 'КубГУ'}, {'id': 'https://vk.com/id152038705', 'name': '****а Кусайло', 'img': None, 'group': '<a mention=\"\" mention_id=\"club137164283\" onmouseover=\"mentionOver(this);\" href=\"/dionika_solnechny\" class=\"group_link\">Фитнес-центр Дионика|Саратов|Солнечный</a>'}, {'id': 'https://vk.com/id152038705', 'name': '****лав Пиянзин', 'img': None, 'group': 'СГУ им. Н. Г. Чернышевского'}, {'id': 'https://vk.com/id152038705', 'name': '****Beam', 'img': None, 'group': 'СГУ им. Н. Г. Чернышевского'}, {'id': 'https://vk.com/id152038705', 'name': '****erina Krasichkova', 'img': None, 'group': 'СГУ им. Н. Г. Чернышевского'}, {'id': 'https://vk.com/id152038705', 'name': '****на Аракелян', 'img': None, 'group': 'СГУ им. Н. Г. Чернышевского'}, {'id': 'https://vk.com/id152038705', 'name': '****лана Бурова', 'img': None, 'group': 'СГУ им. Н. Г. Чернышевского'}]\n"
     ]
    }
   ],
   "source": [
    "def try_to_find_element(driver,xpath,after_search=lambda x:x):\n",
    "    try:\n",
    "        el = driver.find_element(By.XPATH,xpath)\n",
    "        return after_search(el)\n",
    "    except Exception as e:\n",
    "        print (\"  --> Error: The element was not found by {}\".format(xpath))\n",
    "        return None;\n",
    "\n",
    "def mask_string_4 (string):\n",
    "    new_str = '****' + string[4:]\n",
    "    return new_str\n",
    "    \n",
    "subscriber_list = [];\n",
    "for friends_div in friends_div_list:\n",
    "    \n",
    "    img = try_to_find_element(friends_div,\"div[contains(@class,'friends_photo')]/a[contains(@class,'AvatarRich')]/img[contains(@class,'AvatarRich')]\",lambda el: el.get_attribute(\"src\"))\n",
    "    info = friends_div.find_element(By.XPATH,\"div[contains(@class,'friends_user_info')]\")\n",
    "    name = info.find_element(By.XPATH,\"div[contains(@class,'friends_field_title')]/a\")\n",
    "    f_id = name.get_attribute(\"href\")\n",
    "    name = name.get_attribute(\"innerHTML\")\n",
    "    group = try_to_find_element(info,\"div[@class='friends_field']\",lambda x:x.get_attribute(\"innerHTML\"))\n",
    "    \n",
    "    subscriber_list.append({\n",
    "        \"id\":id,\n",
    "        \"name\":mask_string_4(name),\n",
    "        \"img\":img,\n",
    "        \"group\":group\n",
    "    })\n",
    "    \n",
    "print (subscriber_list)\n",
    "    \n",
    "    "
   ]
  },
  {
   "cell_type": "code",
   "execution_count": 71,
   "id": "47587334",
   "metadata": {},
   "outputs": [],
   "source": [
    "from pymongo import MongoClient\n",
    "\n",
    "db=MongoClient(\"127.0.0.1:27017\")[\"MyKontactParser\"];\n",
    "for subscriber in subscriber_list:\n",
    "    db.subscribers.insert_one(subscriber);\n"
   ]
  },
  {
   "cell_type": "code",
   "execution_count": null,
   "id": "95664b90",
   "metadata": {},
   "outputs": [],
   "source": []
  },
  {
   "cell_type": "code",
   "execution_count": null,
   "id": "8568bad3",
   "metadata": {},
   "outputs": [],
   "source": []
  }
 ],
 "metadata": {
  "kernelspec": {
   "display_name": "Python 3 (ipykernel)",
   "language": "python",
   "name": "python3"
  },
  "language_info": {
   "codemirror_mode": {
    "name": "ipython",
    "version": 3
   },
   "file_extension": ".py",
   "mimetype": "text/x-python",
   "name": "python",
   "nbconvert_exporter": "python",
   "pygments_lexer": "ipython3",
   "version": "3.9.12"
  }
 },
 "nbformat": 4,
 "nbformat_minor": 5
}
