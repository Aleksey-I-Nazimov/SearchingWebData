{
 "cells": [
  {
   "cell_type": "markdown",
   "id": "ddc07cca",
   "metadata": {},
   "source": [
    "Для Linux<br>\n",
    "> !apt install mongodb<br>\n",
    "> !service mongodb start<br>"
   ]
  },
  {
   "cell_type": "code",
   "execution_count": 1,
   "id": "0c3edb7b",
   "metadata": {},
   "outputs": [
    {
     "name": "stdout",
     "output_type": "stream",
     "text": [
      "Collecting pymongo\n",
      "  Downloading pymongo-4.3.3-cp39-cp39-win_amd64.whl (382 kB)\n",
      "Collecting dnspython<3.0.0,>=1.16.0\n",
      "  Downloading dnspython-2.3.0-py3-none-any.whl (283 kB)\n",
      "Installing collected packages: dnspython, pymongo\n",
      "Successfully installed dnspython-2.3.0 pymongo-4.3.3\n"
     ]
    }
   ],
   "source": [
    "!pip install pymongo"
   ]
  },
  {
   "cell_type": "code",
   "execution_count": 2,
   "id": "78943330",
   "metadata": {},
   "outputs": [],
   "source": [
    "from pymongo import MongoClient"
   ]
  },
  {
   "cell_type": "code",
   "execution_count": 9,
   "id": "594d15cf",
   "metadata": {},
   "outputs": [
    {
     "data": {
      "text/plain": [
       "{'_id': ObjectId('644e9499c990e786e53dd6d8'),\n",
       " 'name': 'Alex',\n",
       " 'lastName': 'Nazimov'}"
      ]
     },
     "execution_count": 9,
     "metadata": {},
     "output_type": "execute_result"
    }
   ],
   "source": [
    "client = MongoClient('127.0.0.1:27017')\n",
    "db=client['XpathScanner'];\n",
    "\n",
    "# _id - key can be custom but it has to be unique:\n",
    "db.users.insert_one( {'name':'Alex','lastName':'Nazimov'})\n",
    "x=db.users.find_one();\n",
    "x"
   ]
  },
  {
   "cell_type": "code",
   "execution_count": 10,
   "id": "2831d9a0",
   "metadata": {},
   "outputs": [
    {
     "name": "stdout",
     "output_type": "stream",
     "text": [
      "{'_id': ObjectId('644e9499c990e786e53dd6d8'), 'name': 'Alex', 'lastName': 'Nazimov'}\n",
      "{'_id': ObjectId('644e94f5c990e786e53dd6da'), 'name': 'Alex', 'lastName': 'Nazimov'}\n",
      "{'_id': ObjectId('644e9542c990e786e53dd6dc'), 'name': 'Alex', 'lastName': 'Nazimov'}\n",
      "{'_id': ObjectId('644e9549c990e786e53dd6de'), 'name': 'Alex', 'lastName': 'Nazimov'}\n",
      "{'_id': ObjectId('644e9552c990e786e53dd6e0'), 'name': 'Alex', 'lastName': 'Nazimov'}\n"
     ]
    }
   ],
   "source": [
    "for document in db.users.find():\n",
    "    print (document)"
   ]
  },
  {
   "cell_type": "code",
   "execution_count": 11,
   "id": "5d5c96a9",
   "metadata": {},
   "outputs": [
    {
     "name": "stdout",
     "output_type": "stream",
     "text": [
      "{'_id': ObjectId('644e9499c990e786e53dd6d8'), 'name': 'Alex', 'lastName': 'Nazimov'}\n",
      "{'_id': ObjectId('644e94f5c990e786e53dd6da'), 'name': 'Alex', 'lastName': 'Nazimov'}\n",
      "{'_id': ObjectId('644e9542c990e786e53dd6dc'), 'name': 'Alex', 'lastName': 'Nazimov'}\n",
      "{'_id': ObjectId('644e9549c990e786e53dd6de'), 'name': 'Alex', 'lastName': 'Nazimov'}\n",
      "{'_id': ObjectId('644e9552c990e786e53dd6e0'), 'name': 'Alex', 'lastName': 'Nazimov'}\n",
      "{'_id': ObjectId('644e96bdc990e786e53dd6e1'), 'name': 'Alex', 'lastName': 'Nazimov'}\n",
      "{'_id': ObjectId('644e96bdc990e786e53dd6e2'), 'name': 'Mulik', 'lastName': 'Nazimov'}\n"
     ]
    }
   ],
   "source": [
    "# inserting python code has to be executed with try catch\n",
    "db.users.insert_many( [{'name':'Alex','lastName':'Nazimov'},{'name':'Mulik','lastName':'Nazimov'}])\n",
    "for document in db.users.find():\n",
    "    print (document)"
   ]
  },
  {
   "cell_type": "markdown",
   "id": "28901e20",
   "metadata": {},
   "source": [
    "MongoDb при больших данных работает оптимальнее по расходу памяти на документы.\n",
    "find - возвращает итератор с методом next. Копировать в питон лист не рекомендуется так как игнорируется оптимизация на кешировании которая по умолчанию есть в mongo."
   ]
  },
  {
   "cell_type": "code",
   "execution_count": 14,
   "id": "24dca6b2",
   "metadata": {},
   "outputs": [
    {
     "name": "stdout",
     "output_type": "stream",
     "text": [
      "{'_id': ObjectId('644e96bdc990e786e53dd6e2'), 'name': 'Mulik', 'lastName': 'Nazimov'}\n"
     ]
    }
   ],
   "source": [
    "for document in db.users.find({'name':'Mulik'}):\n",
    "    print (document)"
   ]
  },
  {
   "cell_type": "code",
   "execution_count": 15,
   "id": "c2bfa0da",
   "metadata": {},
   "outputs": [
    {
     "name": "stdout",
     "output_type": "stream",
     "text": [
      "{'_id': ObjectId('644e9499c990e786e53dd6d8'), 'name': 'Alex', 'lastName': 'Nazimov'}\n",
      "{'_id': ObjectId('644e94f5c990e786e53dd6da'), 'name': 'Alex', 'lastName': 'Nazimov'}\n",
      "{'_id': ObjectId('644e9542c990e786e53dd6dc'), 'name': 'Alex', 'lastName': 'Nazimov'}\n",
      "{'_id': ObjectId('644e9549c990e786e53dd6de'), 'name': 'Alex', 'lastName': 'Nazimov'}\n",
      "{'_id': ObjectId('644e9552c990e786e53dd6e0'), 'name': 'Alex', 'lastName': 'Nazimov'}\n",
      "{'_id': ObjectId('644e96bdc990e786e53dd6e1'), 'name': 'Alex', 'lastName': 'Nazimov'}\n"
     ]
    }
   ],
   "source": [
    "for document in db.users.find({'name':'Alex'}):\n",
    "    print (document)"
   ]
  },
  {
   "cell_type": "code",
   "execution_count": 16,
   "id": "902673e9",
   "metadata": {},
   "outputs": [
    {
     "data": {
      "text/plain": [
       "<pymongo.results.InsertOneResult at 0x1f9a3cbfd60>"
      ]
     },
     "execution_count": 16,
     "metadata": {},
     "output_type": "execute_result"
    }
   ],
   "source": [
    "db.users.insert_one( {'name':'Alex','lastName':'Nazimov','age':35})"
   ]
  },
  {
   "cell_type": "code",
   "execution_count": 17,
   "id": "06ca5afa",
   "metadata": {},
   "outputs": [
    {
     "name": "stdout",
     "output_type": "stream",
     "text": [
      "{'_id': ObjectId('644e9c60c990e786e53dd6e3'), 'name': 'Alex', 'lastName': 'Nazimov', 'age': 35}\n"
     ]
    }
   ],
   "source": [
    "# Comparing by >,<,>=,<=,!=\n",
    "for document in db.users.find({'name':'Alex','age':{'$lte':35}}): # $lt $gt $lte $gte $ne\n",
    "    print (document)"
   ]
  },
  {
   "cell_type": "code",
   "execution_count": 32,
   "id": "86ef9433",
   "metadata": {},
   "outputs": [
    {
     "name": "stdout",
     "output_type": "stream",
     "text": [
      "{'_id': ObjectId('644e9499c990e786e53dd6d8'), 'lastName': 'Nazimov', 'first_name': 'Alex'}\n",
      "{'_id': ObjectId('644e94f5c990e786e53dd6da'), 'lastName': 'Nazimov', 'first_name': 'Alex'}\n",
      "{'_id': ObjectId('644e9542c990e786e53dd6dc'), 'lastName': 'Nazimov', 'first_name': 'Alex'}\n",
      "{'_id': ObjectId('644e9549c990e786e53dd6de'), 'lastName': 'Nazimov', 'first_name': 'Alex'}\n",
      "{'_id': ObjectId('644e9552c990e786e53dd6e0'), 'lastName': 'Nazimov', 'first_name': 'Alex'}\n",
      "{'_id': ObjectId('644e96bdc990e786e53dd6e1'), 'lastName': 'Nazimov', 'first_name': 'Alex'}\n",
      "{'_id': ObjectId('644e96bdc990e786e53dd6e2'), 'lastName': 'Nazimov', 'first_name': 'Mulik'}\n",
      "{'_id': ObjectId('644e9c60c990e786e53dd6e3'), 'lastName': 'Nazimov', 'age': 35, 'first_name': 'Alex'}\n"
     ]
    }
   ],
   "source": [
    "db.users.update_one({'_id':'644e9542c990e786e53dd6dc'},{'$set':{'first_name':'Mike'}}) # $set, $unset, $rename\n",
    "for document in db.users.find():\n",
    "    print (document)"
   ]
  },
  {
   "cell_type": "code",
   "execution_count": 33,
   "id": "0c04221d",
   "metadata": {},
   "outputs": [
    {
     "name": "stdout",
     "output_type": "stream",
     "text": [
      "{'_id': ObjectId('644e9499c990e786e53dd6d8'), 'lastName': 'Nazimov', 'first_name': 'Alex'}\n",
      "{'_id': ObjectId('644e94f5c990e786e53dd6da'), 'lastName': 'Nazimov', 'first_name': 'Alex'}\n",
      "{'_id': ObjectId('644e9542c990e786e53dd6dc'), 'lastName': 'Nazimov', 'first_name': 'Alex'}\n",
      "{'_id': ObjectId('644e9549c990e786e53dd6de'), 'lastName': 'Nazimov', 'first_name': 'Alex'}\n",
      "{'_id': ObjectId('644e9552c990e786e53dd6e0'), 'lastName': 'Nazimov', 'first_name': 'Alex'}\n",
      "{'_id': ObjectId('644e96bdc990e786e53dd6e1'), 'lastName': 'Nazimov', 'first_name': 'Alex'}\n",
      "{'_id': ObjectId('644e96bdc990e786e53dd6e2'), 'lastName': 'Nazimov', 'first_name': 'Mulik'}\n",
      "{'_id': ObjectId('644e9c60c990e786e53dd6e3'), 'lastName': 'Nazimov', 'age': 35, 'first_name': 'Alex'}\n"
     ]
    }
   ],
   "source": [
    "db.users.update_many({},{'$rename':{'name':'first_name'}})\n",
    "for document in db.users.find():\n",
    "    print (document)"
   ]
  },
  {
   "cell_type": "code",
   "execution_count": null,
   "id": "37c821fe",
   "metadata": {},
   "outputs": [],
   "source": []
  }
 ],
 "metadata": {
  "kernelspec": {
   "display_name": "Python 3 (ipykernel)",
   "language": "python",
   "name": "python3"
  },
  "language_info": {
   "codemirror_mode": {
    "name": "ipython",
    "version": 3
   },
   "file_extension": ".py",
   "mimetype": "text/x-python",
   "name": "python",
   "nbconvert_exporter": "python",
   "pygments_lexer": "ipython3",
   "version": "3.9.12"
  }
 },
 "nbformat": 4,
 "nbformat_minor": 5
}
