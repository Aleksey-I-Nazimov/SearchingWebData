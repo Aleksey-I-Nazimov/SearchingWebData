{
 "cells": [
  {
   "cell_type": "code",
   "execution_count": 1,
   "id": "aab26c51",
   "metadata": {},
   "outputs": [
    {
     "name": "stdout",
     "output_type": "stream",
     "text": [
      "Requirement already satisfied: Scrapy in c:\\users\\alex\\devprogs\\anaconda\\lib\\site-packages (2.6.1)\n",
      "Requirement already satisfied: w3lib>=1.17.0 in c:\\users\\alex\\devprogs\\anaconda\\lib\\site-packages (from Scrapy) (1.21.0)\n",
      "Requirement already satisfied: lxml>=3.5.0 in c:\\users\\alex\\devprogs\\anaconda\\lib\\site-packages (from Scrapy) (4.8.0)\n",
      "Requirement already satisfied: PyDispatcher>=2.0.5 in c:\\users\\alex\\devprogs\\anaconda\\lib\\site-packages (from Scrapy) (2.0.5)\n",
      "Requirement already satisfied: protego>=0.1.15 in c:\\users\\alex\\devprogs\\anaconda\\lib\\site-packages (from Scrapy) (0.1.16)\n",
      "Requirement already satisfied: service-identity>=16.0.0 in c:\\users\\alex\\devprogs\\anaconda\\lib\\site-packages (from Scrapy) (18.1.0)\n",
      "Requirement already satisfied: parsel>=1.5.0 in c:\\users\\alex\\devprogs\\anaconda\\lib\\site-packages (from Scrapy) (1.6.0)\n",
      "Requirement already satisfied: itemloaders>=1.0.1 in c:\\users\\alex\\devprogs\\anaconda\\lib\\site-packages (from Scrapy) (1.0.4)\n",
      "Requirement already satisfied: Twisted>=17.9.0 in c:\\users\\alex\\devprogs\\anaconda\\lib\\site-packages (from Scrapy) (22.2.0)\n",
      "Requirement already satisfied: setuptools in c:\\users\\alex\\devprogs\\anaconda\\lib\\site-packages (from Scrapy) (61.2.0)\n",
      "Requirement already satisfied: zope.interface>=4.1.3 in c:\\users\\alex\\devprogs\\anaconda\\lib\\site-packages (from Scrapy) (5.4.0)\n",
      "Requirement already satisfied: pyOpenSSL>=16.2.0 in c:\\users\\alex\\devprogs\\anaconda\\lib\\site-packages (from Scrapy) (21.0.0)\n",
      "Requirement already satisfied: tldextract in c:\\users\\alex\\devprogs\\anaconda\\lib\\site-packages (from Scrapy) (3.2.0)\n",
      "Requirement already satisfied: itemadapter>=0.1.0 in c:\\users\\alex\\devprogs\\anaconda\\lib\\site-packages (from Scrapy) (0.3.0)\n",
      "Requirement already satisfied: cssselect>=0.9.1 in c:\\users\\alex\\devprogs\\anaconda\\lib\\site-packages (from Scrapy) (1.1.0)\n",
      "Requirement already satisfied: cryptography>=2.0 in c:\\users\\alex\\devprogs\\anaconda\\lib\\site-packages (from Scrapy) (3.4.8)\n",
      "Requirement already satisfied: queuelib>=1.4.2 in c:\\users\\alex\\devprogs\\anaconda\\lib\\site-packages (from Scrapy) (1.5.0)\n",
      "Requirement already satisfied: cffi>=1.12 in c:\\users\\alex\\devprogs\\anaconda\\lib\\site-packages (from cryptography>=2.0->Scrapy) (1.15.0)\n",
      "Requirement already satisfied: pycparser in c:\\users\\alex\\devprogs\\anaconda\\lib\\site-packages (from cffi>=1.12->cryptography>=2.0->Scrapy) (2.21)\n",
      "Requirement already satisfied: jmespath>=0.9.5 in c:\\users\\alex\\devprogs\\anaconda\\lib\\site-packages (from itemloaders>=1.0.1->Scrapy) (0.10.0)\n",
      "Requirement already satisfied: six>=1.6.0 in c:\\users\\alex\\devprogs\\anaconda\\lib\\site-packages (from parsel>=1.5.0->Scrapy) (1.16.0)\n",
      "Requirement already satisfied: attrs>=16.0.0 in c:\\users\\alex\\devprogs\\anaconda\\lib\\site-packages (from service-identity>=16.0.0->Scrapy) (21.4.0)\n",
      "Requirement already satisfied: pyasn1-modules in c:\\users\\alex\\devprogs\\anaconda\\lib\\site-packages (from service-identity>=16.0.0->Scrapy) (0.2.8)\n",
      "Requirement already satisfied: pyasn1 in c:\\users\\alex\\devprogs\\anaconda\\lib\\site-packages (from service-identity>=16.0.0->Scrapy) (0.4.8)\n",
      "Requirement already satisfied: incremental>=21.3.0 in c:\\users\\alex\\devprogs\\anaconda\\lib\\site-packages (from Twisted>=17.9.0->Scrapy) (21.3.0)\n",
      "Requirement already satisfied: constantly>=15.1 in c:\\users\\alex\\devprogs\\anaconda\\lib\\site-packages (from Twisted>=17.9.0->Scrapy) (15.1.0)\n",
      "Requirement already satisfied: typing-extensions>=3.6.5 in c:\\users\\alex\\devprogs\\anaconda\\lib\\site-packages (from Twisted>=17.9.0->Scrapy) (4.1.1)\n",
      "Requirement already satisfied: hyperlink>=17.1.1 in c:\\users\\alex\\devprogs\\anaconda\\lib\\site-packages (from Twisted>=17.9.0->Scrapy) (21.0.0)\n",
      "Requirement already satisfied: twisted-iocpsupport<2,>=1.0.2 in c:\\users\\alex\\devprogs\\anaconda\\lib\\site-packages (from Twisted>=17.9.0->Scrapy) (1.0.2)\n",
      "Requirement already satisfied: Automat>=0.8.0 in c:\\users\\alex\\devprogs\\anaconda\\lib\\site-packages (from Twisted>=17.9.0->Scrapy) (20.2.0)\n",
      "Requirement already satisfied: idna>=2.5 in c:\\users\\alex\\devprogs\\anaconda\\lib\\site-packages (from hyperlink>=17.1.1->Twisted>=17.9.0->Scrapy) (3.3)\n",
      "Requirement already satisfied: filelock>=3.0.8 in c:\\users\\alex\\devprogs\\anaconda\\lib\\site-packages (from tldextract->Scrapy) (3.6.0)\n",
      "Requirement already satisfied: requests-file>=1.4 in c:\\users\\alex\\devprogs\\anaconda\\lib\\site-packages (from tldextract->Scrapy) (1.5.1)\n",
      "Requirement already satisfied: requests>=2.1.0 in c:\\users\\alex\\devprogs\\anaconda\\lib\\site-packages (from tldextract->Scrapy) (2.27.1)\n",
      "Requirement already satisfied: charset-normalizer~=2.0.0 in c:\\users\\alex\\devprogs\\anaconda\\lib\\site-packages (from requests>=2.1.0->tldextract->Scrapy) (2.0.4)\n",
      "Requirement already satisfied: certifi>=2017.4.17 in c:\\users\\alex\\devprogs\\anaconda\\lib\\site-packages (from requests>=2.1.0->tldextract->Scrapy) (2021.10.8)\n",
      "Requirement already satisfied: urllib3<1.27,>=1.21.1 in c:\\users\\alex\\devprogs\\anaconda\\lib\\site-packages (from requests>=2.1.0->tldextract->Scrapy) (1.26.9)\n"
     ]
    }
   ],
   "source": [
    "!pip install Scrapy"
   ]
  },
  {
   "cell_type": "code",
   "execution_count": 2,
   "id": "6bd78076",
   "metadata": {},
   "outputs": [
    {
     "name": "stdout",
     "output_type": "stream",
     "text": [
      "2.6.1\n"
     ]
    }
   ],
   "source": [
    "import scrapy\n",
    "print(scrapy.__version__)"
   ]
  },
  {
   "cell_type": "code",
   "execution_count": 3,
   "id": "2c817de4",
   "metadata": {},
   "outputs": [
    {
     "name": "stdout",
     "output_type": "stream",
     "text": [
      "New Scrapy project 'parser_job', using template directory 'C:\\Users\\Alex\\DevProgs\\Anaconda\\lib\\site-packages\\scrapy\\templates\\project', created in:\n",
      "    C:\\Users\\Alex\\Dev\\AiLearning\\SearchingWebData\\lesson-5\\parser_job\n",
      "\n",
      "You can start your first spider with:\n",
      "    cd parser_job\n",
      "    scrapy genspider example example.com\n"
     ]
    }
   ],
   "source": [
    "!scrapy startproject parser_job"
   ]
  },
  {
   "cell_type": "code",
   "execution_count": 4,
   "id": "b3225481",
   "metadata": {},
   "outputs": [
    {
     "name": "stdout",
     "output_type": "stream",
     "text": [
      "Created spider 'hh_ru' using template 'basic' \n"
     ]
    }
   ],
   "source": [
    "!scrapy genspider hh_ru hh.ru"
   ]
  },
  {
   "cell_type": "code",
   "execution_count": 6,
   "id": "b197738c",
   "metadata": {},
   "outputs": [],
   "source": [
    "# scrapy crawl hh_ru\n",
    "# scrapy runspider hh_ru"
   ]
  },
  {
   "cell_type": "code",
   "execution_count": null,
   "id": "a8ef0c82",
   "metadata": {},
   "outputs": [],
   "source": []
  }
 ],
 "metadata": {
  "kernelspec": {
   "display_name": "Python 3 (ipykernel)",
   "language": "python",
   "name": "python3"
  },
  "language_info": {
   "codemirror_mode": {
    "name": "ipython",
    "version": 3
   },
   "file_extension": ".py",
   "mimetype": "text/x-python",
   "name": "python",
   "nbconvert_exporter": "python",
   "pygments_lexer": "ipython3",
   "version": "3.9.12"
  }
 },
 "nbformat": 4,
 "nbformat_minor": 5
}
